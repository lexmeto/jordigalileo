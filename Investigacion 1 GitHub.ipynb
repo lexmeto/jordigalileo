{
 "cells": [
  {
   "cell_type": "markdown",
   "id": "ac4bd6b3-9997-419b-816c-fb60d6110a28",
   "metadata": {},
   "source": [
    "**Catedrático:** Ing. Preng Biba Solares  \n",
    "**Auxiliar:** Ing. Jorge Alberto Osoy Barrera  \n",
    "**Curso:** Ciencia de Datos en Python  \n",
    "**Alumno:** Jordi Gian Carlo Chajón López  \n",
    "**Carné:** 23000477\n"
   ]
  },
  {
   "cell_type": "markdown",
   "id": "fff9888d-35e9-424a-b966-55f4c72a5280",
   "metadata": {
    "tags": []
   },
   "source": [
    "<h1 align=\"center\">INVESTIGACIÓN No. 1: GITHUB</h1>\n"
   ]
  },
  {
   "cell_type": "markdown",
   "id": "9e15d5c8-2629-498f-ac75-3cb054a8e5ba",
   "metadata": {
    "tags": []
   },
   "source": [
    "**¿Qué es git?**"
   ]
  },
  {
   "cell_type": "markdown",
   "id": "199de41d-ef3a-4ef5-adc1-b10af7b3bea1",
   "metadata": {},
   "source": [
    "<p style=\"text-align: justify;\">\n",
    "Git, desarrollado por Linus Torvalds en 2005, es un sistema de control de versiones distribuido que permite a los desarrolladores gestionar cambios en el código fuente de manera eficiente. Su principal fortaleza radica en la capacidad de trabajar en entornos distribuidos, ya que cada desarrollador tiene una copia local completa del repositorio, lo que facilita la colaboración y el trabajo sin conexión.\n",
    "</p>\n",
    "    \n",
    "<p style=\"text-align: justify;\">\n",
    "La estructura de ramificación de Git permite la creación de ramas independientes para el desarrollo de características específicas o la solución de problemas, sin afectar la rama principal. Además, el sistema de fusión de Git facilita la integración de cambios entre diferentes ramas. La capacidad de revertir cambios, gestionar conflictos y realizar seguimiento de la historia del código contribuye a un desarrollo más organizado y controlado.\n",
    "</p>"
   ]
  },
  {
   "cell_type": "markdown",
   "id": "aed116b0-132f-44fc-9245-ccd5d7458fb6",
   "metadata": {},
   "source": [
    "**¿Qué es GitHub?**"
   ]
  },
  {
   "cell_type": "markdown",
   "id": "0a054750-576b-41e6-87f4-80c27274b38b",
   "metadata": {},
   "source": [
    "<p style=\"text-align: justify;\">\n",
    "GitHub, es una plataforma de alojamiento de código basada en la nube, utiliza el sistema de control de versiones Git y ofrece una amplia gama de funcionalidades esenciales para los desarrolladores.\n",
    "</p>\n",
    "\n",
    "<p style=\"text-align: justify;\">\n",
    "En primer lugar, GitHub proporciona un espacio seguro y gratuito para almacenar proyectos, permitiendo la carga de repositorios de código en la nube. Los desarrolladores tienen la flexibilidad de crear repositorios públicos o privados, controlando el acceso a sus proyectos según sus necesidades.\n",
    "</p>\n",
    "\n",
    "<p style=\"text-align: justify;\">\n",
    "La colaboración se simplifica en GitHub, ya que facilita el trabajo conjunto en proyectos con desarrolladores de todo el mundo. La capacidad de crear y gestionar ramas permite trabajar en diferentes versiones del proyecto, y las solicitudes de cambios posibilitan la revisión y aprobación de modificaciones en el código, manteniendo un proceso transparente y eficiente.\n",
    "</p>\n",
    "\n",
    "<p style=\"text-align: justify;\">\n",
    "La plataforma también se destaca como una herramienta educativa, ya que permite a los desarrolladores aprender de otros explorando millones de proyectos de código abierto. Esto fomenta la contribución a proyectos existentes y el desarrollo de habilidades mediante la interacción con la comunidad global de desarrolladores.\n",
    "</p>\n",
    "\n",
    "<p style=\"text-align: justify;\">\n",
    "Además, GitHub sirve como un medio para compartir código con el mundo. Publicar proyectos de código abierto permite a otros utilizar y mejorar el código, al tiempo que fomenta la creación de comunidades en torno a proyectos específicos. Esta visibilidad en la plataforma contribuye al reconocimiento y reputación del desarrollador.\n",
    "</p>"
   ]
  },
  {
   "cell_type": "markdown",
   "id": "5384eece-0d86-4724-b75b-45edd4e90b3e",
   "metadata": {},
   "source": [
    "**MagicCells:**"
   ]
  },
  {
   "cell_type": "markdown",
   "id": "97b7a68a-6403-4b3d-afe3-d2cc2344a53e",
   "metadata": {
    "tags": []
   },
   "source": [
    "<p style=\"text-align: justify;\">\n",
    "MagicCells, es una extensión específica para el editor de código Visual Studio Code (VS Code) en GitHub, introduce características avanzadas que mejoran significativamente la experiencia de desarrollo. Esta extensión permite a los usuarios ejecutar comandos específicos dentro de celdas de código, proporcionando funcionalidades diversas y ventajas notables.\n",
    "</p>\n",
    "\n",
    "<span style=\"text-decoration: underline;\">¿Cuáles son los cell magics más comunes?:</span>\n",
    "\n",
    "- %%bash: \n",
    "<p style=\"text-align: justify;\">\n",
    "Ejecuta comandos de la terminal directamente dentro de la celda.\n",
    "- %%R:\n",
    "<p style=\"text-align: justify;\">\n",
    "Ejecuta código en R dentro de la celda.\n",
    "- %%timeit: \n",
    "<p style=\"text-align: justify;\">\n",
    "Mide el tiempo que tarda en ejecutarse el código de la celda.\n",
    "- %%markdown: \n",
    "<p style=\"text-align: justify;\">\n",
    "Crea texto con formato Markdown dentro de la celda.\n",
    "- %%capture: \n",
    "<p style=\"text-align: justify;\">\n",
    "Captura la salida del código de la celda y la almacena en una variable.\n",
    "\n",
    "<span style=\"text-decoration: underline;\">Funcionalidades:</span>\n",
    "\n",
    "- Ejecución de Scripts:\n",
    "<p style=\"text-align: justify;\">\n",
    "MagicCells permite la escritura de scripts en lenguajes como Python, JavaScript o Bash directamente dentro de una celda, facilitando la ejecución con una simple combinación de teclas.\n",
    "</p>\n",
    "- Interacción con el Sistema:\n",
    "<p style=\"text-align: justify;\">\n",
    "Ofrece comandos para abrir archivos, ejecutar programas y realizar diversas acciones en el sistema operativo, brindando una integración más completa con el entorno de desarrollo.\n",
    "</p>\n",
    "- Formateo de Código:\n",
    "<p style=\"text-align: justify;\">\n",
    "La extensión permite formatear automáticamente el código con diferentes estilos, mejorando la consistencia y la legibilidad del código.\n",
    "</p>\n",
    "- Inserción de Snippets:\n",
    "<p style=\"text-align: justify;\">\n",
    "Facilita la inserción de snippets de código predefinidos, agilizando la escritura de código y reduciendo el esfuerzo necesario para tareas rutinarias.\n",
    "</p>\n",
    "\n",
    "<span style=\"text-decoration: underline;\">Ventajas:</span>\n",
    "\n",
    "- Eficiencia Mejorada:\n",
    "<p style=\"text-align: justify;\">\n",
    "MagicCells automatiza tareas repetitivas, aumentando la eficiencia y permitiendo a los desarrolladores centrarse en aspectos más críticos del desarrollo.\n",
    "</p>\n",
    "- Legibilidad del Código Mejorada:\n",
    "<p style=\"text-align: justify;\">\n",
    "Organizar el código en celdas con distintos propósitos mejora la legibilidad y facilita la comprensión de la estructura del proyecto.\n",
    "</p>\n",
    "- Facilita la Colaboración:\n",
    "<p style=\"text-align: justify;\">\n",
    "La capacidad de compartir scripts y celdas con otros usuarios promueve la colaboración y el intercambio de mejores prácticas entre equipos.\n",
    "</p>\n",
    "\n",
    "<span style=\"text-decoration: underline;\">Limitaciones:</span>\n",
    "\n",
    "- Dependencia de VS Code:\n",
    "<p style=\"text-align: justify;\">\n",
    "MagicCells requiere el uso del editor de código VS Code, limitando su disponibilidad a aquellos que utilicen esta plataforma.\n",
    "</p>\n",
    "- Compatibilidad con Lenguajes Limitada:\n",
    "<p style=\"text-align: justify;\">\n",
    "La extensión solo es compatible con un conjunto específico de lenguajes de programación, lo que puede limitar su utilidad en entornos que requieren una variedad más amplia.\n",
    "</p>\n",
    "- Curva de Aprendizaje:\n",
    "<p style=\"text-align: justify;\">\n",
    "La exploración y dominio completo de todas las funciones de la extensión puede llevar tiempo, lo que puede ser una barrera para nuevos usuarios.\n",
    "</p>"
   ]
  },
  {
   "cell_type": "markdown",
   "id": "ac94d15d-bb47-4b16-a6fd-f00013c958c6",
   "metadata": {
    "tags": []
   },
   "source": [
    "**<h4 align=\"center\">E-Grafías</h4>**"
   ]
  },
  {
   "cell_type": "markdown",
   "id": "42cfdb9e-89b8-49d1-9676-08f931634c88",
   "metadata": {},
   "source": [
    "1. **IPython:**\n",
    "\n",
    "   - IPython. (n.d.). [GitHub](https://github.com/ipython/ipython/blob/main/IPython/core/magic.py)\n",
    "   - IPython: Interactive Computing in Python. (n.d.). [IPython Documentation](https://ipython.readthedocs.io/en/stable/interactive/magics.html)\n",
    "\n",
    "2. **GitHub:**\n",
    "\n",
    "   - GitHub Guides. (n.d.). [GitHub](https://guides.github.com/)\n",
    "   \n",
    "3. **Git:**\n",
    "      \n",
    "   - Git Guides. (n.d.). [Git](https://git-scm.com/)\n"
   ]
  }
 ],
 "metadata": {
  "kernelspec": {
   "display_name": "Python 3 (ipykernel)",
   "language": "python",
   "name": "python3"
  },
  "language_info": {
   "codemirror_mode": {
    "name": "ipython",
    "version": 3
   },
   "file_extension": ".py",
   "mimetype": "text/x-python",
   "name": "python",
   "nbconvert_exporter": "python",
   "pygments_lexer": "ipython3",
   "version": "3.11.5"
  }
 },
 "nbformat": 4,
 "nbformat_minor": 5
}
